{
 "cells": [
  {
   "cell_type": "code",
   "execution_count": null,
   "metadata": {},
   "outputs": [],
   "source": [
    "#import netmiko\n",
    "\n",
    "from netmiko import ConnectHandler\n",
    "from credentials import username, password"
   ]
  },
  {
   "cell_type": "code",
   "execution_count": null,
   "metadata": {},
   "outputs": [],
   "source": [
    "# username = input('Enter username')\n",
    "# password = input('Enter password')"
   ]
  },
  {
   "cell_type": "code",
   "execution_count": null,
   "metadata": {},
   "outputs": [],
   "source": [
    "iosxr_01 = {\n",
    "    'device_type': 'cisco_xr',\n",
    "    'ip': 'sandbox-iosxr-1.cisco.com', # '131.226.217.150'\n",
    "    'username': username, \n",
    "    'password': password,\n",
    "    'port': 22 #optional\n",
    "}\n",
    "print(iosxr_01)"
   ]
  },
  {
   "cell_type": "code",
   "execution_count": null,
   "metadata": {},
   "outputs": [],
   "source": [
    "connection = ConnectHandler(**iosxr_01)"
   ]
  },
  {
   "cell_type": "code",
   "execution_count": null,
   "metadata": {},
   "outputs": [],
   "source": [
    "output = connection.send_command('show ipv4 interface brief')\n",
    "print(output)"
   ]
  },
  {
   "cell_type": "code",
   "execution_count": null,
   "metadata": {},
   "outputs": [],
   "source": [
    "config = [\"interface loopback201\",\n",
    "          \"ipv4 address 10.0.0.201/32\", \n",
    "          \"commit\"]\n",
    "\n",
    "result = connection.send_config_set(config)\n",
    "\n",
    "print(result)"
   ]
  },
  {
   "cell_type": "code",
   "execution_count": null,
   "metadata": {},
   "outputs": [],
   "source": [
    "result = connection.send_command('show run interface loopback201')"
   ]
  },
  {
   "cell_type": "code",
   "execution_count": null,
   "metadata": {},
   "outputs": [],
   "source": [
    "print(result)"
   ]
  },
  {
   "cell_type": "code",
   "execution_count": null,
   "metadata": {},
   "outputs": [],
   "source": [
    "connection.disconnect()"
   ]
  },
  {
   "cell_type": "code",
   "execution_count": null,
   "metadata": {},
   "outputs": [],
   "source": [
    "from netmiko import ConnectHandler\n",
    "from credentials import username, password\n",
    "\n",
    "iosxr_01 = {\n",
    "    'device_type': 'cisco_xr',\n",
    "    'ip': 'sandbox-iosxr-1.cisco.com', # '131.226.217.150'\n",
    "    'username': username, \n",
    "    'password': password,\n",
    "    'port': 22 #optional\n",
    "}\n",
    "\n",
    "config = [\"interface loopback202\",\n",
    "          \"ipv4 address 10.0.0.202/32\", \n",
    "          \"commit\"]\n",
    "\n",
    "with ConnectHandler(**iosxr_01) as connection:\n",
    "    result = connection.send_command('show ipv4 interface brief')\n",
    "    print(result)\n",
    "    result = connection.send_config_set(config)\n",
    "    print(result)\n",
    "    result = connection.send_command('show run interface loopback202')\n",
    "    print(result)"
   ]
  },
  {
   "cell_type": "code",
   "execution_count": null,
   "metadata": {},
   "outputs": [],
   "source": [
    "connection2 = ConnectHandler(\n",
    "    device_type = 'cisco_xr',\n",
    "    ip = 'sandbox-iosxr-1.cisco.com',\n",
    "    username = username, \n",
    "    password = password,\n",
    "    port= 22\n",
    ")\n"
   ]
  },
  {
   "cell_type": "code",
   "execution_count": null,
   "metadata": {},
   "outputs": [],
   "source": [
    "output = connection2.send_command('show ipv4 interface brief')\n",
    "print(output)"
   ]
  },
  {
   "cell_type": "code",
   "execution_count": null,
   "metadata": {},
   "outputs": [],
   "source": [
    "from build_configuration import vrf_configuration\n",
    "config = vrf_configuration('shinhan', '65501:105')\n",
    "with open('config.txt', 'w') as f:\n",
    "    f.write(config)"
   ]
  },
  {
   "cell_type": "code",
   "execution_count": null,
   "metadata": {},
   "outputs": [],
   "source": [
    "with open('config.txt', 'r') as f:\n",
    "    for line in f.readlines():\n",
    "        print(line)"
   ]
  },
  {
   "cell_type": "code",
   "execution_count": null,
   "metadata": {},
   "outputs": [],
   "source": [
    "config = vrf_configuration('vib', '65501: 106')\n",
    "with open('config.txt', 'a') as f:\n",
    "    f.write(\"\\n\")\n",
    "    f.write(config)"
   ]
  },
  {
   "cell_type": "code",
   "execution_count": null,
   "metadata": {},
   "outputs": [],
   "source": [
    "import pandas as pd\n",
    "import numpy as np\n"
   ]
  },
  {
   "cell_type": "code",
   "execution_count": null,
   "metadata": {},
   "outputs": [],
   "source": [
    "s = pd.Series([1, 3, 5, np.nan, 6, 8])\n",
    "s"
   ]
  },
  {
   "cell_type": "code",
   "execution_count": null,
   "metadata": {},
   "outputs": [],
   "source": [
    "df2 = pd.DataFrame(\n",
    "    {\n",
    "        \"A\": 1.0,\n",
    "        \"B\": pd.Timestamp(\"20130102\"),\n",
    "        \"C\": pd.Series(1, index=list(range(4)), dtype=\"float32\"),\n",
    "        \"D\": np.array([3] * 4, dtype=\"int32\"),\n",
    "        \"E\": pd.Categorical([\"test\", \"train\", \"test\", \"train\"]),\n",
    "        \"F\": \"foo\",\n",
    "    }\n",
    ")"
   ]
  },
  {
   "cell_type": "code",
   "execution_count": null,
   "metadata": {},
   "outputs": [],
   "source": [
    "df2"
   ]
  },
  {
   "cell_type": "code",
   "execution_count": null,
   "metadata": {},
   "outputs": [],
   "source": [
    "for item in df2[\"E\"]:\n",
    "    print(item)"
   ]
  }
 ],
 "metadata": {
  "kernelspec": {
   "display_name": "Python 3",
   "language": "python",
   "name": "python3"
  },
  "language_info": {
   "codemirror_mode": {
    "name": "ipython",
    "version": 3
   },
   "file_extension": ".py",
   "mimetype": "text/x-python",
   "name": "python",
   "nbconvert_exporter": "python",
   "pygments_lexer": "ipython3",
   "version": "3.10.6"
  },
  "orig_nbformat": 4
 },
 "nbformat": 4,
 "nbformat_minor": 2
}
