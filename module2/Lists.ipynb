{
 "cells": [
  {
   "cell_type": "code",
   "execution_count": null,
   "metadata": {},
   "outputs": [],
   "source": [
    "lst_1 = [1, 2, 3, 4, 'a', 'b', 'c', None, True]\n",
    "print(lst_1)\n",
    "\n",
    "lst_2 = [5, 6, 7, 8]\n",
    "print(lst_2)\n",
    "\n",
    "lst_3 = [lst_1, lst_2]\n",
    "\n",
    "print(lst_3)\n"
   ]
  },
  {
   "cell_type": "code",
   "execution_count": null,
   "metadata": {},
   "outputs": [],
   "source": [
    "ip_addresses = ['192.168.1.1', '192.168.1.2', '192.1681.3', '192.168.1.4']\n",
    "\n",
    "print(ip_addresses[0])\n",
    "print(ip_addresses[1])\n",
    "print(ip_addresses[2])\n",
    "print(ip_addresses[3])\n",
    "print()\n",
    "print(ip_addresses[-1])\n",
    "print(ip_addresses[-2])\n",
    "print(ip_addresses[-3])\n",
    "print(ip_addresses[-4])"
   ]
  },
  {
   "cell_type": "code",
   "execution_count": null,
   "metadata": {},
   "outputs": [],
   "source": [
    "for ip in ip_addresses:\n",
    "    print(ip)"
   ]
  },
  {
   "cell_type": "code",
   "execution_count": null,
   "metadata": {},
   "outputs": [],
   "source": [
    "print(len(ip_addresses))"
   ]
  },
  {
   "cell_type": "code",
   "execution_count": null,
   "metadata": {},
   "outputs": [],
   "source": [
    "print(ip_addresses[0:2])"
   ]
  },
  {
   "cell_type": "code",
   "execution_count": null,
   "metadata": {},
   "outputs": [],
   "source": [
    "users = ['john', 'ethan', 'smith', 'haland', '', 'pep']\n",
    "\n",
    "for user in users:\n",
    "    if user:\n",
    "        print('Hello', user)"
   ]
  },
  {
   "cell_type": "code",
   "execution_count": null,
   "metadata": {},
   "outputs": [],
   "source": [
    "users_2 = users[0:3]\n",
    "print(users_2)"
   ]
  },
  {
   "cell_type": "code",
   "execution_count": null,
   "metadata": {},
   "outputs": [],
   "source": [
    "users_3 = users[2:]\n",
    "print(users_3)"
   ]
  },
  {
   "cell_type": "code",
   "execution_count": null,
   "metadata": {},
   "outputs": [],
   "source": [
    "users_copy = users[:]\n",
    "print(users_copy)"
   ]
  },
  {
   "cell_type": "code",
   "execution_count": null,
   "metadata": {},
   "outputs": [],
   "source": [
    "users_4 = users[:2]\n",
    "print(users_4)"
   ]
  },
  {
   "cell_type": "code",
   "execution_count": null,
   "metadata": {},
   "outputs": [],
   "source": [
    "config = ['router ospf', 'router-id 10.0.0.1']\n",
    "\n",
    "print(config)\n",
    "\n",
    "config.append('commit')\n",
    "\n",
    "print(config)\n",
    "\n",
    "for user in users:\n",
    "    config.append(f'username {user} password {user}')\n",
    "\n",
    "print(config)"
   ]
  },
  {
   "cell_type": "code",
   "execution_count": null,
   "metadata": {},
   "outputs": [],
   "source": [
    "ip_address = '192.168.10.1'\n",
    "\n",
    "octets = ip_address.split('.')\n",
    "\n",
    "new_octets = [octets[0], octets[1], str(int(octets[2]) + 5), octets[3]]\n",
    "\n",
    "print(new_octets)\n",
    "\n",
    "new_ip = '.'.join(new_octets)\n",
    "\n",
    "print(new_ip)"
   ]
  },
  {
   "cell_type": "code",
   "execution_count": null,
   "metadata": {},
   "outputs": [],
   "source": [
    "ip_addresses = ['192.168.10.1', '172.16.1.1', '10.0.0.1']\n",
    "new_ip_addresses = []\n",
    "\n",
    "for ip in ip_addresses:\n",
    "    octets = ip.split('.')\n",
    "    new_octes = [octets[0], octets[1], str(int(octets[2])+5), octets[3]]\n",
    "    new_ip = '.'.join(new_octes)\n",
    "    new_ip_addresses.append(new_ip)\n",
    "\n",
    "print(new_ip_addresses)\n"
   ]
  },
  {
   "cell_type": "code",
   "execution_count": null,
   "metadata": {},
   "outputs": [],
   "source": [
    "users"
   ]
  },
  {
   "cell_type": "code",
   "execution_count": null,
   "metadata": {},
   "outputs": [],
   "source": [
    "all_devices = ['router1', 'router2', 'router3', 'switch1', 'switch2']\n",
    "routers = ['router1', 'router2', 'router3', 'r1', 'r2', 'r3']\n",
    "\n",
    "for device in all_devices:\n",
    "    if device in routers:\n",
    "        print(device, 'is a router')\n",
    "    else:\n",
    "        print(device, 'is not a router')\n"
   ]
  },
  {
   "cell_type": "code",
   "execution_count": null,
   "metadata": {},
   "outputs": [],
   "source": [
    "a = 1\n",
    "b = a\n",
    "a += 10\n",
    "print('a = ', a)\n",
    "print('b = ', b)"
   ]
  },
  {
   "cell_type": "code",
   "execution_count": null,
   "metadata": {},
   "outputs": [],
   "source": [
    "lst1 = [1,2,3]\n",
    "lst2 = lst1\n",
    "print('before')\n",
    "print('list1 =', lst1)\n",
    "print('list2 = ', lst2)\n",
    "lst1.append(4)\n",
    "\n",
    "print('after')\n",
    "print('list 1 =', lst1)\n",
    "print('list 2 =', lst2)"
   ]
  },
  {
   "cell_type": "code",
   "execution_count": null,
   "metadata": {},
   "outputs": [],
   "source": [
    "lst1 = [1,2,3]\n",
    "lst2 = lst1[:]\n",
    "print('before')\n",
    "print('list1 =', lst1)\n",
    "print('list2 = ', lst2)\n",
    "lst1.append(4)\n",
    "print('after')\n",
    "print('list1 =', lst1)\n",
    "print('list2 = ', lst2)"
   ]
  },
  {
   "cell_type": "code",
   "execution_count": null,
   "metadata": {},
   "outputs": [],
   "source": [
    "list1 = []\n",
    "list2 = []\n",
    "for i in range(1001):\n",
    "    list1.append(i)\n",
    "    list2.append(i*i)\n",
    "\n",
    "print(list2)\n"
   ]
  },
  {
   "cell_type": "code",
   "execution_count": null,
   "metadata": {},
   "outputs": [],
   "source": [
    "list3 = [i for i in range(1001)]\n",
    "list4 = [i*i for i in range(10001)]\n",
    "\n",
    "print(list3)\n",
    "print(list4)"
   ]
  },
  {
   "cell_type": "code",
   "execution_count": null,
   "metadata": {},
   "outputs": [],
   "source": [
    "list3 = [i for i in range(1001) if i % 2]\n",
    "\n",
    "print(list3)"
   ]
  },
  {
   "cell_type": "code",
   "execution_count": null,
   "metadata": {},
   "outputs": [],
   "source": [
    "list3 = [i for i in range(1001) if not i % 2]\n",
    "\n",
    "print(list3)"
   ]
  },
  {
   "cell_type": "code",
   "execution_count": null,
   "metadata": {},
   "outputs": [],
   "source": [
    "neighbors = ['10.0.0.1', '10.0.0.2', '10.0.0.3', '10.0.0.3', '192.168.1.1', '192.168.1.2']\n",
    "\n",
    "config1 = [f\"neighbor {neighbor} remote-as 65501\" for neighbor in neighbors]\n",
    "\n",
    "print(config1)"
   ]
  },
  {
   "cell_type": "code",
   "execution_count": null,
   "metadata": {},
   "outputs": [],
   "source": [
    "config = [\"router bgp 65501\", \"address-family ipv4 unicast\"]\n",
    "config += config1\n",
    "print(config)"
   ]
  },
  {
   "cell_type": "code",
   "execution_count": null,
   "metadata": {},
   "outputs": [],
   "source": [
    "configuration = '\\n'.join(config)\n",
    "print(configuration)"
   ]
  }
 ],
 "metadata": {
  "kernelspec": {
   "display_name": "Python 3",
   "language": "python",
   "name": "python3"
  },
  "language_info": {
   "codemirror_mode": {
    "name": "ipython",
    "version": 3
   },
   "file_extension": ".py",
   "mimetype": "text/x-python",
   "name": "python",
   "nbconvert_exporter": "python",
   "pygments_lexer": "ipython3",
   "version": "3.10.6"
  },
  "orig_nbformat": 4
 },
 "nbformat": 4,
 "nbformat_minor": 2
}
