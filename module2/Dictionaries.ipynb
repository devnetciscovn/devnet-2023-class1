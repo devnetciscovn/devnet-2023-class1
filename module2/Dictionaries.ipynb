{
 "cells": [
  {
   "cell_type": "code",
   "execution_count": null,
   "metadata": {},
   "outputs": [],
   "source": [
    "english_vietnames_dictionaries = {\n",
    "    'home': 'Nha',\n",
    "    'sun': 'Mat Troi', \n",
    "    'ocean': 'Dai Duong', \n",
    "    'sand': 'Cat',\n",
    "    'father': 'Cha',\n",
    "    'mother': 'Me'\n",
    "}"
   ]
  },
  {
   "cell_type": "code",
   "execution_count": null,
   "metadata": {},
   "outputs": [],
   "source": [
    "english_vietnames_dictionaries['sun']"
   ]
  },
  {
   "cell_type": "code",
   "execution_count": null,
   "metadata": {},
   "outputs": [],
   "source": [
    "english_vietnames_dictionaries.get('sun')"
   ]
  },
  {
   "cell_type": "code",
   "execution_count": null,
   "metadata": {},
   "outputs": [],
   "source": [
    "english_vietnames_dictionaries['school']"
   ]
  },
  {
   "cell_type": "code",
   "execution_count": null,
   "metadata": {},
   "outputs": [],
   "source": [
    "english_vietnames_dictionaries.get('school', 'N/A')"
   ]
  },
  {
   "cell_type": "code",
   "execution_count": null,
   "metadata": {},
   "outputs": [],
   "source": [
    "english_vietnames_dictionaries['school'] = 'Truong Hoc'\n",
    "english_vietnames_dictionaries['company'] = 'Cong Ty'\n",
    "english_vietnames_dictionaries['router'] = 'Thiet bi chuyen mach'"
   ]
  },
  {
   "cell_type": "code",
   "execution_count": null,
   "metadata": {},
   "outputs": [],
   "source": [
    "english_vietnames_dictionaries"
   ]
  },
  {
   "cell_type": "code",
   "execution_count": null,
   "metadata": {},
   "outputs": [],
   "source": [
    "for item in english_vietnames_dictionaries:\n",
    "    print(item)"
   ]
  },
  {
   "cell_type": "code",
   "execution_count": null,
   "metadata": {},
   "outputs": [],
   "source": [
    "if 'love' in english_vietnames_dictionaries:\n",
    "    print(english_vietnames_dictionaries['love'])\n",
    "else:\n",
    "    english_vietnames_dictionaries['love'] = 'Tinh Yeu'"
   ]
  },
  {
   "cell_type": "code",
   "execution_count": null,
   "metadata": {},
   "outputs": [],
   "source": [
    "english_vietnames_dictionaries['love']"
   ]
  },
  {
   "cell_type": "code",
   "execution_count": 46,
   "metadata": {},
   "outputs": [],
   "source": [
    "router1 = {\n",
    "    'hostname': 'hni-core',\n",
    "    'ip': '192.168.1.101',\n",
    "    'username': 'admin',\n",
    "    'password': 'a@@a',\n",
    "    'os': 'cisco_xr',\n",
    "    'ospf': {\n",
    "        'router-id': '100.0.0.1',\n",
    "        'interfaces': ['GigabitEthernet0', 'GigabitEthernet1', 'GigabitEthernet2', 'GigabitEthernet3']\n",
    "    },\n",
    "    'bgp': {\n",
    "            'neighbors': ['10.0.0.1', '10.0.0.2', '10.0.0.3']\n",
    "            }\n",
    "}"
   ]
  },
  {
   "cell_type": "code",
   "execution_count": null,
   "metadata": {},
   "outputs": [],
   "source": [
    "for item in router1:\n",
    "    print(item)"
   ]
  },
  {
   "cell_type": "code",
   "execution_count": null,
   "metadata": {},
   "outputs": [],
   "source": [
    "for k, v in router1.items():\n",
    "    print(k,':',v)"
   ]
  },
  {
   "cell_type": "code",
   "execution_count": null,
   "metadata": {},
   "outputs": [],
   "source": [
    "router1['ospf']['interfaces'][2]"
   ]
  },
  {
   "cell_type": "code",
   "execution_count": null,
   "metadata": {},
   "outputs": [],
   "source": [
    "for interface in router1['ospf']['interfaces']:\n",
    "    print(interface)"
   ]
  },
  {
   "cell_type": "code",
   "execution_count": 49,
   "metadata": {},
   "outputs": [
    {
     "name": "stdout",
     "output_type": "stream",
     "text": [
      "10.0.0.1\n",
      "10.0.0.2\n",
      "10.0.0.3\n"
     ]
    }
   ],
   "source": [
    "for neighbor in router1['bgp']['neighbors']:\n",
    "    print(neighbor)"
   ]
  }
 ],
 "metadata": {
  "kernelspec": {
   "display_name": "Python 3",
   "language": "python",
   "name": "python3"
  },
  "language_info": {
   "codemirror_mode": {
    "name": "ipython",
    "version": 3
   },
   "file_extension": ".py",
   "mimetype": "text/x-python",
   "name": "python",
   "nbconvert_exporter": "python",
   "pygments_lexer": "ipython3",
   "version": "3.10.6"
  },
  "orig_nbformat": 4
 },
 "nbformat": 4,
 "nbformat_minor": 2
}
