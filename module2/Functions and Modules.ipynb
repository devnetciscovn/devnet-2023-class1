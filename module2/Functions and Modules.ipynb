{
 "cells": [
  {
   "cell_type": "code",
   "execution_count": null,
   "metadata": {},
   "outputs": [],
   "source": [
    "def hello():\n",
    "    print('Hello world')\n",
    "    print()\n",
    "    print('Welcome to devnet course')\n",
    "    print()\n",
    "    print('I am a function')"
   ]
  },
  {
   "cell_type": "code",
   "execution_count": null,
   "metadata": {},
   "outputs": [],
   "source": [
    "hello()"
   ]
  },
  {
   "cell_type": "code",
   "execution_count": null,
   "metadata": {},
   "outputs": [],
   "source": [
    "def hello(name):\n",
    "    print('Hello ', name)"
   ]
  },
  {
   "cell_type": "code",
   "execution_count": null,
   "metadata": {},
   "outputs": [],
   "source": [
    "hello('Nam')"
   ]
  },
  {
   "cell_type": "code",
   "execution_count": null,
   "metadata": {},
   "outputs": [],
   "source": [
    "def vrf_configuration(vrf_name, rd, rt_import, rt_export):\n",
    "    print(f'vrf {vrf_name}')\n",
    "    print(f'rd {rd}')\n",
    "    print(f'route-target import {rt_import}')\n",
    "    print(f'route-target export {rt_export}')"
   ]
  },
  {
   "cell_type": "code",
   "execution_count": null,
   "metadata": {},
   "outputs": [],
   "source": [
    "vrf_configuration('vietcombank', '65501:101', '65501:102', '65501:103')"
   ]
  },
  {
   "cell_type": "code",
   "execution_count": null,
   "metadata": {},
   "outputs": [],
   "source": [
    "def substra(a,b):\n",
    "    #print('before return')\n",
    "    return a-b\n",
    "    print('after return')\n",
    "    print('try again')"
   ]
  },
  {
   "cell_type": "code",
   "execution_count": null,
   "metadata": {},
   "outputs": [],
   "source": [
    "result = substra(10,3)"
   ]
  },
  {
   "cell_type": "code",
   "execution_count": null,
   "metadata": {},
   "outputs": [],
   "source": [
    "print(result)"
   ]
  },
  {
   "cell_type": "code",
   "execution_count": null,
   "metadata": {},
   "outputs": [],
   "source": [
    "substra(10,3)"
   ]
  },
  {
   "cell_type": "code",
   "execution_count": null,
   "metadata": {},
   "outputs": [],
   "source": [
    "substra(3, 10)"
   ]
  },
  {
   "cell_type": "code",
   "execution_count": null,
   "metadata": {},
   "outputs": [],
   "source": [
    "substra(10)"
   ]
  },
  {
   "cell_type": "code",
   "execution_count": null,
   "metadata": {},
   "outputs": [],
   "source": [
    "substra(a=10, b=3)"
   ]
  },
  {
   "cell_type": "code",
   "execution_count": null,
   "metadata": {},
   "outputs": [],
   "source": [
    "substra(b=3, a=10)"
   ]
  },
  {
   "cell_type": "code",
   "execution_count": null,
   "metadata": {},
   "outputs": [],
   "source": [
    "def multiply(a, b):\n",
    "    return a * b"
   ]
  },
  {
   "cell_type": "code",
   "execution_count": null,
   "metadata": {},
   "outputs": [],
   "source": [
    "multiply(6, 8)"
   ]
  },
  {
   "cell_type": "code",
   "execution_count": null,
   "metadata": {},
   "outputs": [],
   "source": [
    "def multiply(a, b=1):\n",
    "    return a * b"
   ]
  },
  {
   "cell_type": "code",
   "execution_count": null,
   "metadata": {},
   "outputs": [],
   "source": [
    "multiply(6, 8)"
   ]
  },
  {
   "cell_type": "code",
   "execution_count": null,
   "metadata": {},
   "outputs": [],
   "source": [
    "multiply(6)"
   ]
  },
  {
   "cell_type": "code",
   "execution_count": null,
   "metadata": {},
   "outputs": [],
   "source": [
    "def multiply(a=1, b=1):\n",
    "    return a * b"
   ]
  },
  {
   "cell_type": "code",
   "execution_count": null,
   "metadata": {},
   "outputs": [],
   "source": [
    "multiply()"
   ]
  },
  {
   "cell_type": "code",
   "execution_count": null,
   "metadata": {},
   "outputs": [],
   "source": [
    "def vrf_configuration(vrf_name, rd, rt_import, rt_export):\n",
    "    lst = [f'vrf {vrf_name}', f'rd {rd}',\n",
    "           f'route-target import {rt_import}', \n",
    "           f'route-target export {rt_export}']\n",
    "    \n",
    "    return \"\\n\".join(lst)"
   ]
  },
  {
   "cell_type": "code",
   "execution_count": null,
   "metadata": {},
   "outputs": [],
   "source": [
    "config = vrf_configuration('vietcombank', '65501:101', \\\n",
    "                           '65501:102', '65501:103')\n",
    "\n",
    "print(config)"
   ]
  },
  {
   "cell_type": "code",
   "execution_count": null,
   "metadata": {},
   "outputs": [],
   "source": [
    "def vrf_configuration(vrf_name, rd, rt_import='', rt_export=''):\n",
    "    if rt_import:\n",
    "        rt_import_value = rt_import\n",
    "    else:\n",
    "        rt_import_value = rd\n",
    "\n",
    "    if rt_export:\n",
    "        rt_export_value = rt_export\n",
    "    else:\n",
    "        rt_export_value = rd\n",
    "\n",
    "    lst = [f'vrf {vrf_name}', f'rd {rd}',\n",
    "           f'route-target import {rt_import_value}',\n",
    "           f'route-target export {rt_export_value}']\n",
    "\n",
    "    return \"\\n\".join(lst)"
   ]
  },
  {
   "cell_type": "code",
   "execution_count": null,
   "metadata": {},
   "outputs": [],
   "source": [
    "vietinbank_config = vrf_configuration('vietinbank', '65502:2')\n",
    "print(vietinbank_config)"
   ]
  },
  {
   "cell_type": "code",
   "execution_count": null,
   "metadata": {},
   "outputs": [],
   "source": [
    "# def vrf_configuration(vrf_name, rd, rt_import='', rt_export=''):\n",
    "#     rt_import_value = rt_import if rt_import else rd\n",
    "#     rt_export_value = rt_export if rt_export else rd\n",
    "\n",
    "#     lst = [f'vrf {vrf_name}',\n",
    "#            f'rd {rd}',\n",
    "#            f'route-target import {rt_import_value}',\n",
    "#            f'route-target export {rt_export_value}']\n",
    "\n",
    "#     return \"\\n\".join(lst)"
   ]
  },
  {
   "cell_type": "code",
   "execution_count": null,
   "metadata": {},
   "outputs": [],
   "source": [
    "vpbank_config = vrf_configuration('vpbank', '65501:103')\n",
    "print(vpbank_config)"
   ]
  },
  {
   "cell_type": "code",
   "execution_count": null,
   "metadata": {},
   "outputs": [],
   "source": [
    "import math\n",
    "print(math.pi)\n",
    "print(math.sin(math.pi/2))"
   ]
  },
  {
   "cell_type": "code",
   "execution_count": null,
   "metadata": {},
   "outputs": [],
   "source": [
    "from math import pi, sin\n",
    "print(pi)\n",
    "print(sin(pi/2))"
   ]
  },
  {
   "cell_type": "code",
   "execution_count": null,
   "metadata": {},
   "outputs": [],
   "source": [
    "import math as m\n",
    "print(m.pi)\n",
    "print(m.sin(m.pi/2))"
   ]
  },
  {
   "cell_type": "code",
   "execution_count": null,
   "metadata": {},
   "outputs": [],
   "source": [
    "import build_configuration\n",
    "print(build_configuration.username)\n",
    "print(build_configuration.password)\n",
    "\n",
    "config = build_configuration.vrf_configuration('mb', '65501:104')\n",
    "print(config)"
   ]
  },
  {
   "cell_type": "code",
   "execution_count": 78,
   "metadata": {},
   "outputs": [
    {
     "name": "stdout",
     "output_type": "stream",
     "text": [
      "admin 249898s09f#adfafdaf\n",
      "vrf techcombank\n",
      "rd 65501:105\n",
      "route-target import 65501:105\n",
      "route-target export 65501:105\n"
     ]
    }
   ],
   "source": [
    "from build_configuration import username, password, vrf_configuration\n",
    "\n",
    "print(username, password)\n",
    "config = vrf_configuration('techcombank', '65501:105')\n",
    "print(config)"
   ]
  }
 ],
 "metadata": {
  "kernelspec": {
   "display_name": "Python 3",
   "language": "python",
   "name": "python3"
  },
  "language_info": {
   "codemirror_mode": {
    "name": "ipython",
    "version": 3
   },
   "file_extension": ".py",
   "mimetype": "text/x-python",
   "name": "python",
   "nbconvert_exporter": "python",
   "pygments_lexer": "ipython3",
   "version": "3.10.6"
  },
  "orig_nbformat": 4
 },
 "nbformat": 4,
 "nbformat_minor": 2
}
