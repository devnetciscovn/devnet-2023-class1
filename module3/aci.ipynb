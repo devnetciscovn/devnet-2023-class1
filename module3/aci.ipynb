{
 "cells": [
  {
   "cell_type": "code",
   "execution_count": null,
   "metadata": {},
   "outputs": [],
   "source": [
    "import requests"
   ]
  },
  {
   "cell_type": "code",
   "execution_count": null,
   "metadata": {},
   "outputs": [],
   "source": [
    "url = 'https://sandboxapicdc.cisco.com/api/aaaLogin.json'\n",
    "\n",
    "body = {\n",
    "    \"aaaUser\": {\"attributes\": {\n",
    "        \"name\": \"admin\",\n",
    "        \"pwd\": \"!v3G@!4@Y\"}\n",
    "    }}\n",
    "\n",
    "response = requests.post(url, json=body, verify=False)\n",
    "print(response.status_code)\n",
    "response_cookies = response.cookies"
   ]
  },
  {
   "cell_type": "code",
   "execution_count": null,
   "metadata": {},
   "outputs": [],
   "source": [
    "url = 'https://sandboxapicdc.cisco.com/api/node/class/fvTenant.json'\n",
    "\n",
    "response = requests.get(url, cookies=response_cookies, verify=False)\n",
    "response.status_code"
   ]
  },
  {
   "cell_type": "code",
   "execution_count": null,
   "metadata": {},
   "outputs": [],
   "source": [
    "for tenant in response.json()['imdata']:\n",
    "    print(tenant)"
   ]
  }
 ],
 "metadata": {
  "kernelspec": {
   "display_name": "Python 3",
   "language": "python",
   "name": "python3"
  },
  "language_info": {
   "codemirror_mode": {
    "name": "ipython",
    "version": 3
   },
   "file_extension": ".py",
   "mimetype": "text/x-python",
   "name": "python",
   "nbconvert_exporter": "python",
   "pygments_lexer": "ipython3",
   "version": "3.10.6"
  },
  "orig_nbformat": 4
 },
 "nbformat": 4,
 "nbformat_minor": 2
}
